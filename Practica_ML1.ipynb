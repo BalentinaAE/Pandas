{
 "cells": [
  {
   "attachments": {},
   "cell_type": "markdown",
   "metadata": {},
   "source": [
    "# Práctica de Machine Learning nº1\n",
    "El objetivo de la prática consiste en clasificar y evaluar diferentes algoritmos de clasificación de ML.\n",
    "\n",
    "Los datos son imágenes de escasa resolución de objetos reales (por ejemplo: un oso, un avión, un tren, etc.). Los datos están separados en varios ficheros:\n",
    "\n",
    "\n",
    "```bash\n",
    "├── batches.meta dispone de información descriptiva de las etiquetas usadas\n",
    "├── data_batch_1  datos_lote_1\n",
    "├── data_batch_2  datos_lote_2\n",
    "├── data_batch_3  datos_lote_3\n",
    "├── data_batch_4  datos_lote_4\n",
    "├── data_batch_5  datos_lote_5\n",
    "└── test_batch    muestras que podrían utilizarse como test\n",
    "```\n",
    "\n",
    "Estos ficheros se proporcionan en formato binario por su elevado tamaño.\n",
    "\n",
    "A continuación, adjuntamos código para mostrar operaciones básicas de acceso a estos datos, formato y dimensión. \n",
    "Advertencia: tened en cuenta el 'path del fichero' a la hora de cargar cada uno de ellos.\n",
    "\n",
    "**El resto del enunciado está al final del documento.**"
   ]
  },
  {
   "cell_type": "code",
   "execution_count": 3,
   "metadata": {},
   "outputs": [],
   "source": [
    "# Librerías \n",
    "import matplotlib.pyplot as plt\n",
    "import pandas as pd\n",
    "import numpy as np\n",
    "import pickle\n",
    "\n",
    "#Función para la carga de datos. Formato binario propio de pandas: pickle\n",
    "def unpickle(file):\n",
    "    with open(file, 'rb') as f:\n",
    "        data = pickle.load(f, encoding='bytes')\n",
    "    return data"
   ]
  },
  {
   "cell_type": "code",
   "execution_count": 4,
   "metadata": {},
   "outputs": [
    {
     "name": "stdout",
     "output_type": "stream",
     "text": [
      "dict_keys([b'batch_label', b'labels', b'data', b'filenames'])\n",
      "10000\n",
      "6\n",
      "******************************\n",
      "[ 59  43  50 ... 140  84  72]\n",
      "3072\n",
      "(10000, 3072)\n",
      "******************************\n",
      "21\n",
      "b'training batch 1 of 5'\n",
      "******************************\n",
      "10000\n"
     ]
    }
   ],
   "source": [
    "# Fichero \n",
    "data = unpickle(\"/users/BalentinaAE/PYTHON/Projects/Notebooks/data_batch_1\")\n",
    "print(data.keys())\n",
    "\n",
    "\n",
    "print(len(data[b'labels']))\n",
    "print(data[b'labels'][0])\n",
    "print(\"*\"*30)\n",
    "print(data[b'data'][0])\n",
    "print(len(data[b'data'][0]))\n",
    "print(data[b'data'].shape)\n",
    "print(\"*\"*30)\n",
    "\n",
    "print(len(data[b'batch_label']))\n",
    "print(data[b'batch_label'])\n",
    "print(\"*\"*30)\n",
    "print(len(data[b'filenames']))\n",
    "\n"
   ]
  },
  {
   "cell_type": "code",
   "execution_count": 5,
   "metadata": {},
   "outputs": [
    {
     "name": "stdout",
     "output_type": "stream",
     "text": [
      "dict_keys([b'num_cases_per_batch', b'label_names', b'num_vis'])\n",
      "10000\n",
      "b'airplane'\n",
      "******************************\n"
     ]
    }
   ],
   "source": [
    "meta = unpickle(\"batches.meta\")\n",
    "print(meta.keys())\n",
    "\n",
    "print(meta[b'num_cases_per_batch'])\n",
    "print(meta[b'label_names'][0])\n",
    "\n",
    "print(\"*\"*30)\n"
   ]
  },
  {
   "cell_type": "code",
   "execution_count": 6,
   "metadata": {},
   "outputs": [
    {
     "name": "stdout",
     "output_type": "stream",
     "text": [
      "3072\n"
     ]
    }
   ],
   "source": [
    "# Cada entidad, se encuentra en una posición de cada uno de los anteriores atributos\n",
    "# Vamos a ver la entidad '0'\n",
    "d0 = data[b'data'][0]\n",
    "print(len(d0))"
   ]
  },
  {
   "cell_type": "code",
   "execution_count": 7,
   "metadata": {},
   "outputs": [
    {
     "data": {
      "image/png": "[encoded data removed]",
      "text/plain": [
       "<Figure size 200x200 with 1 Axes>"
      ]
     },
     "metadata": {},
     "output_type": "display_data"
    }
   ],
   "source": [
    "# Los datos de cada entidad contienen los valores de la imagen. La imagen se obtiene por la combinación de tres canales/capas (red, green, blue) de la siguiente forma:\n",
    "ch0 = d0[0:1024]\n",
    "ch1 = d0[1024:2048]\n",
    "ch2 = d0[2048:]\n",
    "\n",
    "# Cada canal es una capa del correspondiente color\n",
    "ch0 = np.reshape(ch0, (32,32)) # red\n",
    "ch1 = np.reshape(ch1, (32,32)) # green\n",
    "ch2 = np.reshape(ch2, (32,32)) # blue\n",
    "\n",
    "# La combinación de ellas da una imagen con los tres colores:\n",
    "image = np.dstack((ch0, ch1, ch2))\n",
    "\n",
    "\n",
    "fig, ax = plt.subplots(figsize=(2, 2))\n",
    "ax.imshow(image)\n",
    "plt.show()"
   ]
  },
  {
   "cell_type": "code",
   "execution_count": 9,
   "metadata": {},
   "outputs": [
    {
     "name": "stdout",
     "output_type": "stream",
     "text": [
      "6\n",
      "b'frog'\n",
      "------------------------------\n"
     ]
    },
    {
     "data": {
      "image/png": "[encoded data removed]",
      "text/plain": [
       "<Figure size 200x200 with 1 Axes>"
      ]
     },
     "metadata": {},
     "output_type": "display_data"
    }
   ],
   "source": [
    "# La etiqueta y categoría de la entidad '0' están codificados en los atributos:\n",
    "code_fine_label = data[b'labels'][0]\n",
    "# Necesitamos la información del fichero META para poner nombre al código de la etiqueta\n",
    "code_coarse_label = meta[b'label_names'][code_fine_label]\n",
    "print(code_fine_label)\n",
    "print(code_coarse_label)\n",
    "\n",
    "print(\"-\"*30)\n",
    "\n",
    "fig, ax = plt.subplots(figsize=(2, 2))\n",
    "ax.imshow(image)\n",
    "ax.set_title(code_coarse_label.decode(\"utf-8\").capitalize(),y=-.2)\n",
    "plt.axis('off')\n",
    "plt.show()"
   ]
  },
  {
   "attachments": {},
   "cell_type": "markdown",
   "metadata": {},
   "source": [
    "## Enunciado\n",
    "\n",
    "Se pide:\n",
    "- 1. Analiza con mayor detalle la dimensionalidad de los datos. En esta sección se valorará el uso de gráficos.\n",
    "- 2. Selecciona datos para entrenar un modelo de clasificación usando la librería scikit-learn con tan solo las entidades de tres categorías elegidas al azar por el sistema. Importante: si así lo considerás no hace falta que selecciones todas las muestras de esos tipos que hay en todos los lotes!\n",
    "- 3. Aplica, configura y analiza los resultados tras aplicar los siguientes algoritmos de clasificación sobre los datos seleccionados previamente (se valorarán el estudio de diferentes parametrizaciones):\n",
    "  - Support Vector Machine\n",
    "  - Random Forest Classifier\n",
    "  - K Neighbors Classifier\n",
    "  - AdaBoots\n",
    "- 4. Compara los resultados de los algoritmos. En esta sección se valorarán las visualizaciones.\n",
    "\n",
    "Entrega:\n",
    "- Solo está permitida la entrega de **un único** documento con formato notebook de jupyter (.ipynb) mediante su subida a la tarea en AulaDigital. Se espera un informe combinado de texto y código documentado.\n",
    "  - Especificar en la primera celda del documento: nombre y apellidos.\n",
    "\n",
    "  - Entregar el notebook con los resultados de su ejecución. \n"
   ]
  },
  {
   "cell_type": "markdown",
   "metadata": {},
   "source": []
  },
  {
   "cell_type": "markdown",
   "metadata": {},
   "source": [
    "prueba git 1"
   ]
  },
  {
   "cell_type": "code",
   "execution_count": null,
   "metadata": {},
   "outputs": [],
   "source": []
  }
 ],
 "metadata": {
  "kernelspec": {
   "display_name": "base",
   "language": "python",
   "name": "python3"
  },
  "language_info": {
   "codemirror_mode": {
    "name": "ipython",
    "version": 3
   },
   "file_extension": ".py",
   "mimetype": "text/x-python",
   "name": "python",
   "nbconvert_exporter": "python",
   "pygments_lexer": "ipython3",
   "version": "3.12.7"
  },
  "orig_nbformat": 4
 },
 "nbformat": 4,
 "nbformat_minor": 2
}
