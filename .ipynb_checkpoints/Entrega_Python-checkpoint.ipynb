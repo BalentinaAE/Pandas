{
 "cells": [
  {
   "cell_type": "markdown",
   "id": "141dc145-319c-417f-bd83-b27e0bd26b5f",
   "metadata": {},
   "source": [
    "# Balentina Agudelo Escobar"
   ]
  },
  {
   "cell_type": "markdown",
   "id": "8249ceb9-95eb-41ba-b83b-dca1624ad8bf",
   "metadata": {},
   "source": [
    "#### Definir una función llamada calcular impuesto que recibe el sueldo anual de una persona y su edad. La función debe calcular la cantidad a pagar según las siguientes reglas:\n",
    " a) Si una persona tiene menos de 18 años no tiene que pagar el impuesto. \n",
    " \n",
    " b) Si una persona tiene entre 18 y 30 años inclusive y un sueldo entre e20000 y\n",
    " e40000 debe pagar un 20 % del sueldo.\n",
    " \n",
    " c) Si una persona tiene mas de 30 años y un sueldo entre e20000 y e40000 debe\n",
    "pagar un 30 % del sueldo.\n",
    "\n",
    "d) Si una persona tiene un sueldo mayor de e40000 debe pagar un 50 % del sueldo."
   ]
  },
  {
   "cell_type": "code",
   "execution_count": null,
   "id": "2b9640e5-dd78-453a-83db-9b9451e26681",
   "metadata": {},
   "outputs": [],
   "source": [
    "def calcular_impuesto(sueldo, edad):\n",
    "    if edad < 18:\n",
    "        return 0 \n",
    "\n",
    "    if 18 <= edad <= 30 and 20000 <= sueldo <= 40000:\n",
    "        return sueldo * 0.20  \n",
    "    \n",
    "    if edad > 30 and 20000 <= sueldo <= 40000:\n",
    "        return sueldo * 0.30 \n",
    "    if sueldo > 40000:\n",
    "        return sueldo * 0.50  \n",
    "    return 0  \n",
    "\n",
    "sueldo_anual = float(input(\"Introduce sueldo anual: \"))   # este tipo designa un número de coma flotante. Estos valores se especifican con un punto decimal. \n",
    "edad = int(input(\"Introduce edad: \"))\n",
    "\n",
    "impuesto = calcular_impuesto(sueldo_anual, edad)\n",
    "\n",
    "\n",
    "print(\"El impuesto a pagar es:\", impuesto, \"euros\")  "
   ]
  },
  {
   "cell_type": "markdown",
   "id": "db95e08b-8dd6-4dfc-9778-764c99dc760e",
   "metadata": {},
   "source": []
  },
  {
   "cell_type": "markdown",
   "id": "66671b21-5f58-422e-82ba-6c1da958dc91",
   "metadata": {},
   "source": [
    "### Escribre una función llamada max 3 que recibe 3 números enteros y devuelve el mayor de 3.\n"
   ]
  },
  {
   "cell_type": "code",
   "execution_count": null,
   "id": "46bff7aa-4aab-470e-9885-7d1d96ac3c00",
   "metadata": {},
   "outputs": [],
   "source": [
    "def max_3( x, y, z):\n",
    "    return max(x, y, z)\n",
    "\n",
    "# Ejemplo de uso\n",
    "numer1 = int(input(\"introduce primer número: \"))   # para que el usuario ponga el dato\n",
    "numer2 = int(input(\"introduce segundo número: \"))\n",
    "numer3 = int(input(\"introduce tercer número: \"))\n",
    "\n",
    "mayor = max_3(numer1, numer2, numer3)\n",
    "print(f\"El mayor de los tres números es: {mayor}\")\n"
   ]
  },
  {
   "cell_type": "markdown",
   "id": "76684e1b-ad6d-4167-8509-81019c5ec7ed",
   "metadata": {},
   "source": [
    "### Realizar un código que crea una lista llamada resultado que contiene todos los\n",
    "elementos de la lista random numbers = [19, 137, 15, 90, 134, 51, 76, 105,\n",
    "36, 29, 7] que son múltiplos de 3 y de 5. Finalmente la debe mostrar por pantalla"
   ]
  },
  {
   "cell_type": "code",
   "execution_count": null,
   "id": "cd2b53c0-7cdc-4e0e-bdbd-79a35b621f59",
   "metadata": {},
   "outputs": [],
   "source": [
    "\n",
    "random_numbers = [19, 137, 15, 90, 134, 51, 76, 105, 36, 29, 7]\n",
    "\n",
    "respuesta = [num for num in random_numbers if num % 3 == 0 and num % 5 == 0]\n",
    "\n",
    "print (\"  múltiplos de 3 y de 5:\", respuesta)\n"
   ]
  },
  {
   "cell_type": "markdown",
   "id": "ed60cbd5-f290-4514-8305-ed55b57525a0",
   "metadata": {},
   "source": [
    "### Da el valor de en el que la secuencia 2 * 3**n − 4 * 2.5n toma su valor mínimo. \n",
    "puede tomar los valores de 0 a 100."
   ]
  },
  {
   "cell_type": "code",
   "execution_count": null,
   "id": "47818863-e3ea-450b-bb4b-5a485a54c994",
   "metadata": {},
   "outputs": [],
   "source": [
    "\n",
    "def f(n):\n",
    "    return 2 * 3**n - 4 * 2.5**n\n",
    "numer_min = 0\n",
    "valor_mini= f(0)\n",
    "\n",
    "for n in range(1, 101):\n",
    "    valor_actu = f(n)\n",
    "    if valor_actu < valor_mini:\n",
    "        valor_mini = valor_actu\n",
    "        numer_min = n\n",
    "        \n",
    "print(f\"El valor n que minimiza la función es: {numer_min}\")\n",
    "print(f\"El valor mínimo de la función es: {valor_mini}\")\n",
    "\n"
   ]
  },
  {
   "cell_type": "code",
   "execution_count": null,
   "id": "c56cb6ba-98a0-4664-a220-2032e0418bc3",
   "metadata": {},
   "outputs": [],
   "source": []
  }
 ],
 "metadata": {
  "kernelspec": {
   "display_name": "Python 3 (ipykernel)",
   "language": "python",
   "name": "python3"
  },
  "language_info": {
   "codemirror_mode": {
    "name": "ipython",
    "version": 3
   },
   "file_extension": ".py",
   "mimetype": "text/x-python",
   "name": "python",
   "nbconvert_exporter": "python",
   "pygments_lexer": "ipython3",
   "version": "3.12.7"
  }
 },
 "nbformat": 4,
 "nbformat_minor": 5
}
