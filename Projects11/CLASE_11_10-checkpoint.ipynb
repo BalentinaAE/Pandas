{
 "cells": [
  {
   "cell_type": "markdown",
   "id": "f91b1569-57db-453c-893d-5ee6ab7b8813",
   "metadata": {},
   "source": [
    "# Primera clase python\n",
    "## Balentina  "
   ]
  },
  {
   "cell_type": "code",
   "execution_count": null,
   "id": "ccdf0185-d717-4ae6-abc6-7d55894209f6",
   "metadata": {},
   "outputs": [],
   "source": [
    "### A continuación tiene la primera muestra de código, declaramos una variable de cada uno de los diferentes tipos de datos que hemos descrito en la sección anterior:\n",
    "{caracter = 'a'\n",
    "estring = \"Hello!\"\n",
    "enter =  123\n",
    "decimal = 1.23\n",
    "complexe = 1+23j\n",
    "logic = False\n",
    "\n",
    "\n",
    "#Este código no es relevante para nosotros, solamente el resultado\n",
    "print(type(caracter))\n",
    "print(type(estring))\n",
    "print(type(enter))\n",
    "print(type(decimal))\n",
    "print(type(complexe))\n",
    "print(type(logic))\n",
    "<class 'str'>\n",
    "<class 'str'>\n",
    "<class 'int'>\n",
    "<class 'float'>\n",
    "<class 'complex'>\n",
    "<class 'bool'>"
   ]
  },
  {
   "cell_type": "code",
   "execution_count": 2,
   "id": "38ac9927-fa6d-4a3d-9b50-9fc675ff2aa0",
   "metadata": {},
   "outputs": [
    {
     "data": {
      "text/plain": [
       "True"
      ]
     },
     "execution_count": 2,
     "metadata": {},
     "output_type": "execute_result"
    }
   ],
   "source": [
    "x = 5.3\n",
    "y = 5.5\n",
    "comparacion_1 = x < y\n",
    "comparacion_1"
   ]
  },
  {
   "cell_type": "code",
   "execution_count": 3,
   "id": "0f1e717c-05dc-489d-97e8-5cd99dfba4e2",
   "metadata": {},
   "outputs": [
    {
     "data": {
      "text/plain": [
       "True"
      ]
     },
     "execution_count": 3,
     "metadata": {},
     "output_type": "execute_result"
    }
   ],
   "source": [
    "letra_a = 'a'\n",
    "letra_b = 'b'\n",
    "\n",
    "comparacion_2 = letra_a != letra_b\n",
    "comparacion_2"
   ]
  },
  {
   "cell_type": "code",
   "execution_count": 4,
   "id": "32e7591e-4857-444c-8bff-5ad5c284feca",
   "metadata": {},
   "outputs": [
    {
     "data": {
      "text/plain": [
       "False"
      ]
     },
     "execution_count": 4,
     "metadata": {},
     "output_type": "execute_result"
    }
   ],
   "source": [
    "\n",
    "letra_a = 'a'\n",
    "letra_b = 'b'\n",
    "\n",
    "comparacion_3 = letra_a > letra_b\n",
    "comparacion_3\n",
    "\n"
   ]
  },
  {
   "cell_type": "markdown",
   "id": "bc132d65-9697-465e-891a-2bd3c6b8a2f0",
   "metadata": {},
   "source": [
    "### Realizar un conjunto de expresiones en Python que nos calcule el índice de masa corporal (IMC) de una personaque mide 2 m y pesa 60 Kg. Se calcula dividiendo el peso entre la altura al cuadrado (en cm).\n",
    "\n"
   ]
  },
  {
   "cell_type": "code",
   "execution_count": 9,
   "id": "c6ed41bb-322c-48af-848c-513b24db4184",
   "metadata": {},
   "outputs": [
    {
     "data": {
      "text/plain": [
       "0.09"
      ]
     },
     "execution_count": 9,
     "metadata": {},
     "output_type": "execute_result"
    }
   ],
   "source": [
    "\n",
    "altura = 200\n",
    "peso= 60\n",
    "IMC = (peso / altura)**2\n",
    "IMC"
   ]
  },
  {
   "cell_type": "markdown",
   "id": "1c111cdb-fb00-43ac-9fa1-94b489a08e4b",
   "metadata": {},
   "source": [
    "### Realizar un conjunto de expresiones en Python para resolver una ecuación de primer grado de la forma ax+b= 0. Los valores de a y b los pondremos directamente en el código y mostrar la solución por pantalla\n",
    "\n"
   ]
  },
  {
   "cell_type": "code",
   "execution_count": 17,
   "id": "db74ff0d-3c4f-4a54-af08-02da8ccb73f1",
   "metadata": {},
   "outputs": [
    {
     "data": {
      "text/plain": [
       "-1.6"
      ]
     },
     "execution_count": 17,
     "metadata": {},
     "output_type": "execute_result"
    }
   ],
   "source": [
    "a=5\n",
    "b=8\n",
    "c=10\n",
    "\n",
    "x = (-b/a)\n",
    "x"
   ]
  },
  {
   "cell_type": "markdown",
   "id": "e05b7c3e-9ac3-4d3a-aefd-c7c488712ad7",
   "metadata": {},
   "source": [
    "### Crear una función que recibe un número entero que representa un año y nos devuelve un valor booleano que representa si es un año bisiesto o no. Comprueba la corrección de tu función usándola."
   ]
  },
  {
   "cell_type": "code",
   "execution_count": 29,
   "id": "c3bc88b5-8781-46db-9d50-e22375eeccc5",
   "metadata": {},
   "outputs": [
    {
     "data": {
      "text/plain": [
       "[False, True, False, True]"
      ]
     },
     "execution_count": 29,
     "metadata": {},
     "output_type": "execute_result"
    }
   ],
   "source": [
    "# regla:\n",
    "#Año divisible por 4: Bisiesto.\n",
    "#Año divisible por 100 (pero no por 400): No bisiesto.\n",
    "#Año divisible por 400: Bisiesto.\n",
    "\n",
    "\n",
    "def es_bisiesto(anio):    \n",
    "    if anio % 400 == 0:\n",
    "        return True\n",
    "\n",
    "    elif anio % 100 == 0:\n",
    "        return False\n",
    "\n",
    "    elif anio % 4 == 0:\n",
    "        return True\n",
    " \n",
    "    else:\n",
    "        return False\n",
    "\n",
    "# Prueba de varios años para verificar si son bisiestos\n",
    "anios = [1900, 2000, 2023, 2024]  \n",
    "resultados = [es_bisiesto(anio) for anio in anios] \n",
    "resultados"
   ]
  },
  {
   "cell_type": "markdown",
   "id": "20ad470e-96f4-4151-9f71-c2e6813dadac",
   "metadata": {},
   "source": [
    "### Realizar una función que recibe los parámetros (números enteros): a, b y c. resuelve una ecuación de segundo grado y devuelve sus soluciones. Ejemplo, la ecuación:  debe dar -0.1523201 ; -9.8476799. Para calcular la raíz cuadrada podéis usar la función sqrt. Comprueba la corrección de tu función usándola."
   ]
  },
  {
   "cell_type": "code",
   "execution_count": 2,
   "id": "9f31be25-de50-450d-be81-5cb97d0e27c8",
   "metadata": {},
   "outputs": [
    {
     "name": "stdout",
     "output_type": "stream",
     "text": [
      "Las raíces son: -0.10102051443364424 y -9.898979485566356\n"
     ]
    }
   ],
   "source": [
    "\n",
    "import math  #  librería matemática para usar sqrt\n",
    "\n",
    "def ecuacion(a, b, c):\n",
    "    discriminante = b**2 - 4*a*c  # Calculamos el discriminante\n",
    "    \n",
    "    if discriminante < 0:\n",
    "        print(\"La ecuación no tiene solución en los números reales\")\n",
    "    else:\n",
    "        raiz1 = (-b + math.sqrt(discriminante)) / (2*a)  # Primera raíz\n",
    "        raiz2 = (-b - math.sqrt(discriminante)) / (2*a)  # Segunda raíz\n",
    "        \n",
    "        print(f\"Las raíces son: {raiz1} y {raiz2}\")\n",
    "\n",
    "#  función con los valores dados\n",
    "ecuacion(1, 10, 1)"
   ]
  },
  {
   "cell_type": "markdown",
   "id": "f1253244-c76c-46f9-a3e5-7c62f32ac020",
   "metadata": {},
   "source": [
    "# TEMA 2 PAGINA Control del flujo del programa  \n",
    "### Realizar un programa que imprima todos los números del 0 al 6 excepto el 3 y el 6.\n"
   ]
  },
  {
   "cell_type": "code",
   "execution_count": null,
   "id": "3c40e901-783b-493f-af25-c01748742b8a",
   "metadata": {},
   "outputs": [],
   "source": []
  },
  {
   "cell_type": "markdown",
   "id": "c43b15bd-0065-49b0-b3f6-b839a0e30d0e",
   "metadata": {},
   "source": [
    "\n",
    "### Escribir un programa que dado un número, imprima todos los divisores de ese número."
   ]
  },
  {
   "cell_type": "code",
   "execution_count": 37,
   "id": "8aea8af5-2208-4a93-a5f2-af64e53a9240",
   "metadata": {},
   "outputs": [
    {
     "name": "stdout",
     "output_type": "stream",
     "text": [
      "Los divisores de 30 son:\n",
      "1\n",
      "2\n",
      "3\n",
      "5\n",
      "6\n",
      "10\n",
      "15\n",
      "30\n"
     ]
    }
   ],
   "source": [
    "x= 0\n",
    "def divisores(x):\n",
    "    if x == 0:  \n",
    "        print(\"No se puede dividir por cero\")\n",
    "    else:\n",
    "        print(f\"Los divisores de {x} son:\")\n",
    "        for i in range(1, x + 1):  # Recorre los números desde 1 hasta x\n",
    "            if x % i == 0:  # Verifica si es divisor\n",
    "                print(i)\n",
    "\n",
    "# Ejemplo de uso:\n",
    "divisores(30)"
   ]
  },
  {
   "cell_type": "code",
   "execution_count": 33,
   "id": "fcafef4a-cbac-45a3-b912-e2a249162e7d",
   "metadata": {
    "scrolled": true
   },
   "outputs": [
    {
     "name": "stdout",
     "output_type": "stream",
     "text": [
      "0\n",
      "1\n",
      "2\n",
      "4\n",
      "5\n"
     ]
    }
   ],
   "source": [
    "for numero in range(7):  \n",
    "    if numero != 3 and numero != 6:  \n",
    "        print(numero)"
   ]
  },
  {
   "cell_type": "markdown",
   "id": "56613f8e-3ff4-4af6-856b-c029090c9be7",
   "metadata": {},
   "source": [
    "# hacer python poner en marcha guardar el fichero y guardar para el examen- hasta listas"
   ]
  },
  {
   "cell_type": "markdown",
   "id": "c0097416-0f56-4242-82d5-897481e1323e",
   "metadata": {},
   "source": [
    "\n",
    "\n",
    "\n",
    "### Escribe una función que recibe tres valores de entrada que corresponden a horas, minutos y segundos. El programa debe indicar si se trata de un reloj con una hora válida.\n",
    "\n",
    "#### Si recibimos los números 9, 56, 33 es correcto.\n",
    "#### Si recibimos los números 9, 64, 22 no es correcto, ya que no existen los 64 minutos.\n",
    "#### Si recibimos los números 25, 44, 22 no es correcto puesto que no existe la hora 25."
   ]
  },
  {
   "cell_type": "code",
   "execution_count": 4,
   "id": "b4e5c144-90ae-4182-aa46-7a9c00d5327e",
   "metadata": {},
   "outputs": [
    {
     "name": "stdout",
     "output_type": "stream",
     "text": [
      "Es correcto, la hora es válida.\n",
      "No es correcto, los minutos deben estar entre 0 y 59.\n",
      "No es correcto, las horas deben estar entre 0 y 23.\n",
      "Es correcto, la hora es válida.\n",
      "Es correcto, la hora es válida.\n"
     ]
    }
   ],
   "source": [
    "def es_hora_valida(horas, minutos, segundos):\n",
    "    # Comprobar si las horas están en el rango válido (0-23)\n",
    "    if horas < 0 or horas > 23:\n",
    "        return \"No es correcto, las horas deben estar entre 0 y 23.\"\n",
    "    \n",
    "    # Comprobar si los minutos están en el rango válido (0-59)\n",
    "    if minutos < 0 or minutos > 59:\n",
    "        return \"No es correcto, los minutos deben estar entre 0 y 59.\"\n",
    "    \n",
    "    # Comprobar si los segundos están en el rango válido (0-59)\n",
    "    if segundos < 0 or segundos > 59:\n",
    "        return \"No es correcto, los segundos deben estar entre 0 y 59.\"\n",
    "    \n",
    "    return \"Es correcto, la hora es válida.\"\n",
    "\n",
    "# Ejemplos de uso\n",
    "print(es_hora_valida(9, 56, 33))  # Salida: Es correcto, la hora es válida.\n",
    "print(es_hora_valida(9, 64, 22))  # Salida: No es correcto, los minutos deben estar entre 0 y 59.\n",
    "print(es_hora_valida(25, 44, 22))  # Salida: No es correcto, las horas deben estar entre 0 y 23.\n",
    "print(es_hora_valida(12, 30, 45))  # Salida: Es correcto, la hora es válida.\n",
    "print(es_hora_valida(23, 59, 59))  # Salida: Es correcto, la hora es válida.\n",
    "        "
   ]
  },
  {
   "cell_type": "markdown",
   "id": "81676d2b-f9d4-4f98-a48f-bff6391e3465",
   "metadata": {},
   "source": [
    "### Realizar un programa que imprima todos los números del 0 al 6 excepto el 3 y el 6. "
   ]
  },
  {
   "cell_type": "code",
   "execution_count": 3,
   "id": "a5d09fc9-04fc-4581-94c2-0d61e8825a69",
   "metadata": {
    "scrolled": true
   },
   "outputs": [
    {
     "name": "stdout",
     "output_type": "stream",
     "text": [
      "0\n",
      "1\n",
      "2\n",
      "4\n",
      "5\n"
     ]
    }
   ],
   "source": [
    "\n",
    "for num in range(7):  # Recorremos los números del 0 al 6\n",
    "    if num == 3 or num == 6:\n",
    "        continue  # Saltamos el número si es 3 o 6\n",
    "    print(num) "
   ]
  },
  {
   "cell_type": "markdown",
   "id": "7888cbfe-1227-4f73-9dc4-1d950995d513",
   "metadata": {},
   "source": [
    "### Dado un número entero . Si la suma de sus divisores (sin contar el mismo número) es igual a , se dice que ese número es perfecto. Si esa suma es inferior, se dice que es deficiente. Si es superior se dice que es abundante. Realiza un programa que dado un número entero nos diga si es perfecto, deficiente o abundante."
   ]
  },
  {
   "cell_type": "code",
   "execution_count": null,
   "id": "4b965258-8192-412d-80b6-78022f5c23a9",
   "metadata": {},
   "outputs": [],
   "source": [
    "def sum_divisors(n): \n",
    "    suma = 0\n",
    "    # Encontrar los divisores de n (sin incluir el mismo n)\n",
    "    for i in range(1, n):\n",
    "        if n % i == 0:\n",
    "            suma += i\n",
    "    return suma\n",
    "\n",
    "def clasificar_numero(n):\n",
    "    suma = sum_divisors(n)\n",
    "    \n",
    "    if suma == n:\n",
    "        return \"Número perfecto\"\n",
    "    elif suma < n:\n",
    "        return \"Número deficiente\"\n",
    "    else:\n",
    "        return \"Número abundante\"\n",
    "\n",
    "# Entrada del usuario\n",
    "n = int(input(\"Introduce un número entero: \"))\n",
    "resultado = clasificar_numero(n)\n",
    "print(f\"El número {n} es {resultado}.\")"
   ]
  },
  {
   "cell_type": "markdown",
   "id": "64cffa56-f4d4-481e-8831-0a7f11ce98f6",
   "metadata": {},
   "source": [
    "###  Escriba un programa para construir el siguiente patrón:\n",
    "\n",
    "### 1\n",
    "### 1 1\n",
    "### 1 1 1\n",
    "### 1 1 1 1\n",
    "### 1 1 1 1 1\n",
    "### 1 1 1 1\n",
    "### 1 1 1\n",
    "### 1 1\n",
    "### 1\n"
   ]
  },
  {
   "cell_type": "code",
   "execution_count": 5,
   "id": "92ad2f00-992e-4651-84b9-2d3c6f575779",
   "metadata": {},
   "outputs": [
    {
     "name": "stdout",
     "output_type": "stream",
     "text": [
      "1 \n",
      "1 1 \n",
      "1 1 1 \n",
      "1 1 1 1 \n",
      "1 1 1 1 1 \n",
      "1 1 1 1 \n",
      "1 1 1 \n",
      "1 1 \n",
      "1 \n"
     ]
    }
   ],
   "source": [
    "# Parte superior del patrón\n",
    "for i in range(1, 6):  # Desde 1 hasta 5\n",
    "    print(\"1 \" * i)  # Imprime '1 ' i veces\n",
    "\n",
    "# Parte inferior del patrón\n",
    "for i in range(4, 0, -1):  # Desde 4 hasta 1\n",
    "    print(\"1 \" * i)  # Imprime '1 ' i veces\n",
    "\n",
    "#Explicación del Código\n",
    "#Bucle para la Parte Superior:\n",
    "\n",
    "#for i in range(1, 6): Este bucle va de 1 a 5 (incluyendo 1 y 5). Cada valor de i determina cuántas veces se imprimirá 1.\n",
    "#print(\"1 \" * i): Imprime la cadena \"1 \" repetida i veces. Por ejemplo, cuando i es 3, imprime 1 1 1 .\n",
    "#Bucle para la Parte Inferior:\n",
    "\n",
    "#for i in range(4, 0, -1): Este bucle va de 4 a 1 (decrementando). Por cada iteración, imprime una línea con 1s, comenzando desde 4 y disminuyendo hasta 1.\n",
    "#print(\"1 \" * i): Imprime 1 tantas veces como el valor actual de i.\n",
    "\n",
    "#range(start, stop, step)\n",
    "#start: El número inicial de la secuencia (incluido).\n",
    "#stop: El número donde se detiene la secuencia (excluido).\n",
    "#step: La cantidad en la que se incrementa (o decrementa) el número en cada iteración.\n",
    "#Desglosando range(4, 0, -1)\n",
    "# start: 4 Esto indica que la secuencia comenzará en 4.\n",
    "#stop: 0 Esto significa que la secuencia se detendrá justo antes de llegar a 0, es decir, el 0 no se incluirá.\n",
    "#step: -1 Un paso negativo indica que estamos contando hacia atrás (decrementando) en lugar de hacia adelante. Así, en cada iteración, i disminuirá en 1."
   ]
  },
  {
   "cell_type": "markdown",
   "id": "f720eb6a-37cb-482d-9b5f-e6c46763f2ac",
   "metadata": {},
   "source": [
    "### Escribe una función que recibe un número y devuelve True si este es primo y Falseen caso contrario.\n",
    "#### int es un tipo de dato en Python que representa números enteros.\n",
    "#### La función int() se utiliza para convertir otros tipos de datos, como cadenas y números de punto flotante, a enteros.\n",
    "#### Al recibir entradas del usuario, es común usar int() para asegurarse de que los datos sean del tipo adecuado para operaciones matemáticas."
   ]
  },
  {
   "cell_type": "code",
   "execution_count": 6,
   "id": "ef98cd48-f356-4719-86ca-7a1e926ae269",
   "metadata": {},
   "outputs": [
    {
     "name": "stdin",
     "output_type": "stream",
     "text": [
      "Introduce un número entero:  4558\n"
     ]
    },
    {
     "name": "stdout",
     "output_type": "stream",
     "text": [
      "4558 no es primo.\n"
     ]
    }
   ],
   "source": [
    "def es_primo(n):\n",
    "    if n <= 1:\n",
    "        return False\n",
    "    for i in range(2, int(n ** 0.5) + 1):\n",
    "        if n % i == 0:\n",
    "            return False\n",
    "    return True\n",
    "\n",
    "# Entrada del usuario\n",
    "numero = int(input(\"Introduce un número entero: \"))  # Convierte la entrada a entero\n",
    "if es_primo(numero):\n",
    "    print(f\"{numero} es primo.\")\n",
    "else:\n",
    "    print(f\"{numero} no es primo.\")"
   ]
  },
  {
   "cell_type": "markdown",
   "id": "5b80d8fc-1061-4173-934d-6bbe451b0e5d",
   "metadata": {},
   "source": [
    "### Dada la siguiente lista, realiza las operaciones que siguen y verifica su corrección después de la ejecución mi_lista = [1,2,3,4,5,6,7]\n",
    "\n",
    "### ista[inicio:final:incremento]\n",
    "## inicio: Es el índice donde comienza el slicing. Este índice se incluye en el resultado.\n",
    "## final: Es el índice donde se detiene el slicing. Este índice no se incluye en el resultado. Solo se toman los elementos hasta, pero sin incluir, este índice.\n",
    "## incremento: Es la cantidad de pasos que se toman en la selección de elementos. Puede ser positivo (para avanzar) o negativo (para retroceder). "
   ]
  },
  {
   "cell_type": "code",
   "execution_count": 21,
   "id": "7dd7e6ba-2356-4036-94a2-74b5c1b96dce",
   "metadata": {},
   "outputs": [
    {
     "name": "stdout",
     "output_type": "stream",
     "text": [
      "Después de cambiar el primer valor: [33, 2, 3, 4, 5, 6, 7]\n",
      "La longitud de la lista es: 7\n",
      "Los 3 últimos valores son: [5, 6, 7]\n",
      "Después de cambiar el valor central por -5: [33, 2, 3, -5, 5, 6, 7]\n",
      "Después de añadir [8, 9, 10]: [33, 2, 3, -5, 5, 6, 7, 8, 9, 10]\n",
      "Después de eliminar el valor 3: [33, 2, -5, 5, 6, 7, 8, 9, 10]\n",
      "¿El valor 4 existe en la lista? False\n",
      "Después de insertar el valor 10 después del 2: [33, 2, 10, -5, 5, 6, 7, 8, 9, 10]\n"
     ]
    }
   ],
   "source": [
    "#mi_lista = [1,2,3,4,5,6,7] \n",
    "#1. Cambia el primer valor por 33.\n",
    "#2. Muestra su longitud por pantalla.\n",
    "#3. Muestra los 3 últimos valores.\n",
    "#4. Cambia el valor central por el valor -5.\n",
    "#5. Añade la lista [8, 9, 10] a mi lista.\n",
    "#6. Elimina el valor 3.\n",
    "#7. Verifica que ya no existe el valor 4.\n",
    "#8. Inserta el valor 10 después del valor 2.\n",
    "\n",
    "# 1. Crea la lista inicial\n",
    "mi_lista = [1, 2, 3, 4, 5, 6, 7]\n",
    "\n",
    "# 1. Cambia el primer valor por 33\n",
    "mi_lista[0] = 33\n",
    "print(\"Después de cambiar el primer valor:\", mi_lista)\n",
    "\n",
    "# 2. Muestra su longitud por pantalla\n",
    "longitud = len(mi_lista)\n",
    "print(\"La longitud de la lista es:\", longitud)\n",
    "\n",
    "# 3. Muestra los 3 últimos valores\n",
    "ultimos_tres = mi_lista[-3:]  # Tomamos los últimos 3 elementos\n",
    "print(\"Los 3 últimos valores son:\", ultimos_tres)\n",
    "\n",
    "# 4. Cambia el valor central por el valor -5\n",
    "# La longitud de la lista es 7, el índice central es 3 (7 // 2)\n",
    "mi_lista[len(mi_lista) // 2] = -5\n",
    "print(\"Después de cambiar el valor central por -5:\", mi_lista)\n",
    "\n",
    "# 5. Añade la lista [8, 9, 10] a mi lista\n",
    "mi_lista.extend([8, 9, 10])  # Añadimos los elementos al final de la lista\n",
    "print(\"Después de añadir [8, 9, 10]:\", mi_lista)\n",
    "\n",
    "# 6. Elimina el valor 3\n",
    "mi_lista.remove(3)  # Elimina la primera aparición del valor 3\n",
    "print(\"Después de eliminar el valor 3:\", mi_lista)\n",
    "\n",
    "# 7. Verifica que ya no existe el valor 4\n",
    "valor_existe = 4 in mi_lista\n",
    "print(\"¿El valor 4 existe en la lista?\", valor_existe)  # Debería ser False\n",
    "\n",
    "# 8. Inserta el valor 10 después del valor 2\n",
    "# Encontramos la posición del valor 2\n",
    "indice_dos = mi_lista.index(2)\n",
    "mi_lista.insert(indice_dos + 1, 10)  # Insertamos 10 después de 2\n",
    "print(\"Después de insertar el valor 10 después del 2:\", mi_lista)\n",
    "\n"
   ]
  },
  {
   "cell_type": "markdown",
   "id": "d82af2cc-7e55-4d49-8be3-df8a2a2ee5dc",
   "metadata": {},
   "source": [
    "### A partir de la lista siguiente a = [1, 1, 2, 3, 5, 8, 13, 21, 34, 55, 89] escribe un programa que imprima todos los elementos  de la lista que son menores de 5."
   ]
  },
  {
   "cell_type": "code",
   "execution_count": 23,
   "id": "8e5fb5bf-8f98-475a-95a9-1366ac774f0c",
   "metadata": {},
   "outputs": [
    {
     "name": "stdout",
     "output_type": "stream",
     "text": [
      "1\n",
      "1\n",
      "2\n",
      "3\n"
     ]
    }
   ],
   "source": [
    "a = [1, 1, 2, 3, 5, 8, 13, 21, 34, 55, 89]\n",
    "\n",
    "# Recorremos cada elemento de la lista\n",
    "for num in a:\n",
    "    if num < 5:  # Si el número es menor que 5\n",
    "        print(num)\n",
    "#Explicación:\n",
    "#La lista a contiene una serie de números.\n",
    "#Usamos un bucle for para recorrer cada número de la lista.\n",
    "#La condición if num < 5 verifica si el número es menor de 5. Si es así, se imprime el número."
   ]
  },
  {
   "cell_type": "markdown",
   "id": "a96726c6-84e6-4194-b8d1-798699f46ec3",
   "metadata": {},
   "source": [
    "### Escribir un programa que dado un número añada todos los divisores de ese número en una lista y luego la muestre por pantalla."
   ]
  },
  {
   "cell_type": "code",
   "execution_count": 24,
   "id": "3dd06197-8471-4abc-986c-05856688ea4f",
   "metadata": {},
   "outputs": [
    {
     "name": "stdin",
     "output_type": "stream",
     "text": [
      "Introduce un número entero:  62\n"
     ]
    },
    {
     "name": "stdout",
     "output_type": "stream",
     "text": [
      "Los divisores de 62 son: [1, 2, 31, 62]\n"
     ]
    }
   ],
   "source": [
    "# Solicitar al usuario un número entero\n",
    "n = int(input(\"Introduce un número entero: \"))\n",
    "\n",
    "# Inicializamos una lista vacía para almacenar los divisores\n",
    "divisores = []\n",
    "\n",
    "# Recorremos desde 1 hasta n (excluyendo el propio n) para encontrar los divisores\n",
    "for i in range(1, n + 1):\n",
    "    if n % i == 0:  # Si i es divisor de n\n",
    "        divisores.append(i)  # Lo añadimos a la lista de divisores\n",
    "\n",
    "# Mostramos la lista de divisores por pantalla\n",
    "print(f\"Los divisores de {n} son: {divisores}\")\n",
    "#Explicación:\n",
    "#El programa solicita al usuario que introduzca un número entero.\n",
    "#Si lo es, se añade a la lista divisores.\n",
    "#Finalmente, se imprime la lista con todos los divisores del número."
   ]
  },
  {
   "cell_type": "markdown",
   "id": "4bd77864-c107-4e1b-87b3-38af633a56a6",
   "metadata": {},
   "source": [
    "#### Dadas dos listas, digamos por ejemplo estas dos: a = [1, 1, 2, 3, 5, 8, 13, 21, 34, 55, 89] y b = [1, 2, 3, 4, 5, 6, 7, 8, 9, 10, 11, 12, 13] y escribe una función que devuelva una lista que contenga solo los elementos que son comunes entre las listas (sin duplicados). Las listas no tienen por qué tener el mismo tamaño."
   ]
  },
  {
   "cell_type": "code",
   "execution_count": 25,
   "id": "4155fdb3-b042-40da-a58b-c94a938eed55",
   "metadata": {},
   "outputs": [
    {
     "name": "stdout",
     "output_type": "stream",
     "text": [
      "Elementos comunes: [1, 2, 3, 5, 8, 13]\n"
     ]
    }
   ],
   "source": [
    "\n",
    "# Definimos una función que toma dos listas como argumentos\n",
    "def elementos_comunes(lista1, lista2):\n",
    "    # Usamos un conjunto (set) para eliminar duplicados y buscar los elementos comunes\n",
    "    return list(set(lista1) & set(lista2))\n",
    "\n",
    "# Listas \n",
    "a = [1, 1, 2, 3, 5, 8, 13, 21, 34, 55, 89]\n",
    "b = [1, 2, 3, 4, 5, 6, 7, 8, 9, 10, 11, 12, 13]\n",
    "\n",
    "# Llamamos a la función y mostramos los elementos comunes\n",
    "resultado = elementos_comunes(a, b)\n",
    "print(f\"Elementos comunes: {resultado}\")\n",
    "#Explicación:\n",
    "#set(lista1) & set(lista2): Convertimos las listas en conjuntos (sets) para eliminar duplicados automáticamente y usamos la operación & (intersección) para obtener solo los elementos comunes.\n",
    "#list(): Convertimos el conjunto resultante nuevamente en una lista, ya que la intersección devuelve un conjunto y queremos obtener una lista como resultado.\n",
    "#Función: La función recibe dos listas como parámetros y devuelve una lista con los elementos comunes sin duplicados."
   ]
  },
  {
   "cell_type": "markdown",
   "id": "4c309926-a642-4adc-b820-99e3f756b33f",
   "metadata": {},
   "source": [
    "### Escribir una función para contar el número de strings con longitud 2 o más y el primer y último carácter son los mismos muestras = ['abc', 'xyz', 'aba', '1221'] Resultado esperado: 2"
   ]
  },
  {
   "cell_type": "code",
   "execution_count": 26,
   "id": "a333ffca-ea92-44f2-8553-471f918bf48d",
   "metadata": {},
   "outputs": [
    {
     "name": "stdout",
     "output_type": "stream",
     "text": [
      "Resultado esperado: 2\n"
     ]
    }
   ],
   "source": [
    "def contar_strings(lista):\n",
    "    contador = 0  # Inicializamos un contador para contar los strings que cumplen las condiciones.\n",
    "    \n",
    "    for string in lista:  # Recorremos cada string en la lista.\n",
    "        # Comprobamos si la longitud del string es mayor o igual a 2 y si el primer y último carácter son iguales.\n",
    "        if len(string) >= 2 and string[0] == string[-1]:\n",
    "            contador += 1  # Si ambas condiciones se cumplen, incrementamos el contador.\n",
    "    \n",
    "    return contador  # Al final, devolvemos el valor del contador.\n",
    "\n",
    "# Lista de ejemplo\n",
    "muestras = ['abc', 'xyz', 'aba', '1221']\n",
    "\n",
    "# Llamamos a la función contar_strings con la lista 'muestras' y guardamos el resultado.\n",
    "resultado = contar_strings(muestras)\n",
    "\n",
    "# Imprimimos el resultado.\n",
    "print(f\"Resultado esperado: {resultado}\")"
   ]
  },
  {
   "cell_type": "markdown",
   "id": "2b0d3cb8-f761-4a3a-a8c9-08cbfe6174ff",
   "metadata": {},
   "source": [
    "### Dada la lista b del ejercicio 3, elimina todos los números impares."
   ]
  },
  {
   "cell_type": "code",
   "execution_count": 28,
   "id": "0bd78eba-21cd-4d09-8111-1deb67859c3c",
   "metadata": {},
   "outputs": [
    {
     "name": "stdout",
     "output_type": "stream",
     "text": [
      "[2, 4, 6, 8, 10, 12]\n"
     ]
    }
   ],
   "source": [
    "b = [1, 2, 3, 4, 5, 6, 7, 8, 9, 10, 11, 12, 13]\n",
    "\n",
    "# Filtrar los números pares\n",
    "b = [num for num in b if num % 2 == 0]\n",
    "\n",
    "print(b)  \n",
    "#Explicación:\n",
    "#Comprensión de listas: La línea [num for num in b if num % 2 == 0] crea una nueva lista que contiene solo los números de b que son divisibles entre 2, es decir, los números pares.\n",
    "#num % 2 == 0: Verifica si el número es par (si el residuo de la división entre 2 es cero)."
   ]
  },
  {
   "cell_type": "markdown",
   "id": "be6ff9c6-01e7-4a20-8036-350e1ccaf0a1",
   "metadata": {},
   "source": [
    "### Escribir una función que recibe dos listas por parámetro y devuelva True si tienen al menos un miembro común.\n",
    "#### Explicación: Definición de la función tienen_miembro_comun(lista1, lista2):\n",
    "\n",
    "#### La función recibe dos listas como parámetros (lista1 y lista2).\n",
    "#### Bucle for:\n",
    "\n",
    "#### El bucle recorre cada elemento de la primera lista (lista1).\n",
    "#### Para cada elemento, se verifica si ese elemento está presente en la segunda lista (lista2) usando el operador in.\n",
    "#### Condición:\n",
    "\n",
    "#### Si encuentra un elemento que está en ambas listas, la función inmediatamente devuelve True.\n",
    "#### Final del bucle:\n",
    "\n",
    "#### Si el bucle termina sin encontrar elementos comunes, la función devuelve False, indicando que no comparten ningún elemento."
   ]
  },
  {
   "cell_type": "code",
   "execution_count": 29,
   "id": "9e15d146-87fb-4968-b202-c8d9e7ed4405",
   "metadata": {},
   "outputs": [
    {
     "name": "stdout",
     "output_type": "stream",
     "text": [
      "True\n"
     ]
    }
   ],
   "source": [
    "def tienen_miembro_comun(lista1, lista2):\n",
    "    # Recorremos cada elemento de la primera lista\n",
    "    for elemento in lista1:\n",
    "        # Verificamos si ese elemento está en la segunda lista\n",
    "        if elemento in lista2:\n",
    "            return True  # Si encontramos un elemento común, devolvemos True\n",
    "    return False  # Si terminamos de recorrer las listas sin encontrar un elemento común, devolvemos False\n",
    "\n",
    "# Ejemplo de uso:\n",
    "a = [1, 2, 3, 4, 5]\n",
    "b = [5, 6, 7, 8, 9]\n",
    "\n",
    "resultado = tienen_miembro_comun(a, b)\n",
    "print(resultado) "
   ]
  }
 ],
 "metadata": {
  "kernelspec": {
   "display_name": "Python 3 (ipykernel)",
   "language": "python",
   "name": "python3"
  },
  "language_info": {
   "codemirror_mode": {
    "name": "ipython",
    "version": 3
   },
   "file_extension": ".py",
   "mimetype": "text/x-python",
   "name": "python",
   "nbconvert_exporter": "python",
   "pygments_lexer": "ipython3",
   "version": "3.12.7"
  }
 },
 "nbformat": 4,
 "nbformat_minor": 5
}
