{
 "cells": [
  {
   "cell_type": "markdown",
   "id": "b9ca794b-9c25-48fb-927f-6027b8b58c80",
   "metadata": {},
   "source": [
    "# Balentina Agudelo Escobar\n",
    "## Entrega Taller Introducción a python \n",
    "## https://github.com/BalentinaAE/Projects/blob/master/Taller_python.ipynb"
   ]
  },
  {
   "cell_type": "markdown",
   "id": "58e74145-1544-4e7f-805c-1b7a6bcbddbf",
   "metadata": {},
   "source": [
    "### 1. Realizar una función que recibe 3 números (d, m, a) que representan una fecha (día,mes y año). El programa debe devolver el día (la fecha) siguiente a la recibida por parámetro. Se debe tener en cuenta los días de cada mes y los años bisiestos.\n"
   ]
  },
  {
   "cell_type": "code",
   "execution_count": 4,
   "id": "aa28d59b-9bcf-4313-96e3-e983d4b5588f",
   "metadata": {},
   "outputs": [
    {
     "name": "stdout",
     "output_type": "stream",
     "text": [
      "(6, 9, 1996)\n",
      "(29, 2, 2024)\n"
     ]
    }
   ],
   "source": [
    "# Función día siguiente de una fecha \n",
    "def siguiente_fecha(dia, mes, año):\n",
    "# Días de cada mes (enero a diciembre)\n",
    "    dias_por_mes = [31, 28, 31, 30, 31, 30, 31, 31, 30, 31, 30, 31]\n",
    "\n",
    "# Año bisiesto\n",
    "    if (año % 4 == 0 and año % 100 != 0) or (año % 400 == 0):\n",
    "        dias_por_mes[1] = 29\n",
    "\n",
    "# Siguiente día \n",
    "    dia += 1\n",
    "\n",
    "# Ajuste el mes y el año \n",
    "    if dia > dias_por_mes[mes - 1]:   #Si el día supera el total de días del mes, se resetea a 1 y avanza al mes siguiente\n",
    "        dia = 1\n",
    "        mes += 1\n",
    "        if mes > 12:                 ## Si el mes supera 12, lo resetea a 1 y avanza el año\n",
    "            mes = 1\n",
    "            año += 1\n",
    "\n",
    " #Fecha del día siguiente\n",
    "    return dia, mes, año\n",
    "\n",
    "print(siguiente_fecha(5, 9, 1996)) \n",
    "print(siguiente_fecha(28, 2, 2024)) \n"
   ]
  },
  {
   "cell_type": "markdown",
   "id": "d8443e29-1c5e-4784-8f6d-492714c6a4d6",
   "metadata": {},
   "source": [
    "### 2. Dada la siguiente lista\n",
    " Construye un programa que muestre por pantalla cuantas veces aparece cada una de ellas."
   ]
  },
  {
   "cell_type": "code",
   "execution_count": 6,
   "id": "5c7b9d90-87f4-4dcf-afdd-caaf151ec78f",
   "metadata": {},
   "outputs": [
    {
     "name": "stdout",
     "output_type": "stream",
     "text": [
      "Perro: 1 vez\n",
      "Gato: 1 vez\n",
      "Casa: 1 vez\n",
      "Coche: 1 vez\n",
      "Árbol: 1 vez\n",
      "Sol: 1 vez\n",
      "Luna: 1 vez\n",
      "Mar: 1 vez\n",
      "Montaña: 1 vez\n",
      "Río: 1 vez\n",
      "Playa: 1 vez\n",
      "Libro: 1 vez\n",
      "Computadora: 1 vez\n",
      "Teléfono: 1 vez\n",
      "Amigo: 1 vez\n",
      "Familia: 1 vez\n",
      "Trabajo: 1 vez\n",
      "Comida: 1 vez\n",
      "Película: 1 vez\n",
      "Música: 1 vez\n",
      "Viaje: 1 vez\n",
      "Deporte: 1 vez\n",
      "Juego: 1 vez\n",
      "Amor: 1 vez\n",
      "Odio: 1 vez\n",
      "Felicidad: 1 vez\n",
      "Tristeza: 1 vez\n",
      "Alegría: 1 vez\n",
      "Dolor: 1 vez\n",
      "Sueño: 1 vez\n",
      "Noche: 1 vez\n",
      "Día: 1 vez\n",
      "Agua: 1 vez\n",
      "Fuego: 1 vez\n",
      "Aire: 1 vez\n",
      "Tierra: 1 vez\n",
      "Cielo: 1 vez\n",
      "Estrella: 1 vez\n",
      "Flor: 1 vez\n",
      "Fruta: 1 vez\n",
      "Verdura: 1 vez\n",
      "Chocolate: 1 vez\n",
      "Café: 1 vez\n",
      "Té: 1 vez\n",
      "Vino: 1 vez\n",
      "Cerveza: 1 vez\n",
      "Dinero: 1 vez\n",
      "Tiempo: 1 vez\n",
      "Reloj: 2 vez\n"
     ]
    }
   ],
   "source": [
    "# Lista de palabras\n",
    "palabras_español = [\"Perro\", \"Gato\", \"Casa\", \"Coche\", \"Árbol\", \"Sol\", \"Luna\", \"Mar\", \"Montaña\", \"Río\", \"Playa\", \n",
    "                    \"Libro\", \"Computadora\", \"Teléfono\", \"Amigo\", \"Familia\", \"Trabajo\", \"Comida\", \"Película\", \n",
    "                    \"Música\", \"Viaje\", \"Deporte\", \"Juego\", \"Amor\", \"Odio\", \"Felicidad\", \"Tristeza\", \"Alegría\",\n",
    "                    \"Dolor\", \"Sueño\", \"Noche\", \"Día\", \"Agua\", \"Fuego\", \"Aire\", \"Tierra\", \"Cielo\", \"Estrella\", \n",
    "                    \"Flor\", \"Fruta\", \"Verdura\", \"Chocolate\", \"Café\", \"Té\", \"Vino\", \"Cerveza\", \"Dinero\",\"Tiempo\",\n",
    "                    \"Reloj\", \"Reloj\"]\n",
    " \n",
    "contador_palabras = {}\n",
    "\n",
    "for palabra in palabras_español:\n",
    "    if palabra in contador_palabras:\n",
    "        contador_palabras[palabra] += 1  # Aumenta el contador si ya está en el contador de palabras\n",
    "    else:\n",
    "        contador_palabras[palabra] = 1   # Agrega la palabra al contador de palabras y cuenta 1\n",
    "\n",
    "# Veces que aparece cada palabra\n",
    "for palabra, cantidad in contador_palabras.items():\n",
    "    print(f\"{palabra}: {cantidad} vez\")"
   ]
  },
  {
   "cell_type": "markdown",
   "id": "c3624d51-aefd-4b12-a543-48376126ea78",
   "metadata": {},
   "source": [
    "### 3. Dado el siguiente diccionario con información del precio de diferentes productos por día:\n",
    " Responde a las siguientes preguntas: \n",
    "  1. ¿Cuál es el precio máximo de cada producto?\n",
    "  2. ¿Cuál es el producto más caro?\n",
    "  3. ¿Qué día son más caras las naranjas?"
   ]
  },
  {
   "cell_type": "code",
   "execution_count": 8,
   "id": "fe63fd58-5033-4101-87a3-671211af6d31",
   "metadata": {},
   "outputs": [
    {
     "name": "stdout",
     "output_type": "stream",
     "text": [
      "Precio máximo por producto: {'cebolla': 39.0, 'papas': 0.43, 'naranjas': 0.56}\n",
      "Producto más caro: cebolla\n",
      "Día en el que las naranjas son más caras: 2\n"
     ]
    }
   ],
   "source": [
    "# Diccionario \n",
    "precio_origen = {\n",
    "    \"cebolla\": [30.3, 20.3, 25.9, 39.0],  # céntimos/kg\n",
    "    \"papas\": [0.33, 0.43, 0.34, 0.12],    # euro/kg\n",
    "    \"naranjas\": [0.45, 0.56, 0.38, 0.43]   # euro/kg\n",
    "}\n",
    "\n",
    "# 1. Precio máximo de cada producto\n",
    "precios_maximos = {}  # Diccionario- almacenar los precios máximos\n",
    "for producto in precio_origen:  \n",
    " \n",
    "    precios_maximos[producto] = max(precio_origen[producto])\n",
    "    \n",
    "print(\"Precio máximo por producto:\", precios_maximos)\n",
    "\n",
    "# 2.Producto más caro\n",
    "producto_mas_caro = None  # inicializa en variable sin valor\n",
    "precio_mas_alto = 0  # Inicializa el precio más alto\n",
    "\n",
    "for producto in precios_maximos:  # Iterar sobre el diccionario de precios máximos\n",
    "# Producto con el precio más alto\n",
    "    if precios_maximos[producto] > precio_mas_alto:\n",
    "        precio_mas_alto = precios_maximos[producto]\n",
    "        producto_mas_caro = producto\n",
    "\n",
    "print(\"Producto más caro:\", producto_mas_caro)\n",
    "\n",
    "# 3. Día en el que las naranjas son más caras\n",
    "precio_maximo_naranja = max(precio_origen[\"naranjas\"])  # Precio máximo de naranjas\n",
    "dia_mas_caro_naranja = None  \n",
    "\n",
    "for dia in range(len(precio_origen[\"naranjas\"])):\n",
    "    if precio_origen[\"naranjas\"][dia] == precio_maximo_naranja:\n",
    "        dia_mas_caro_naranja = dia + 1  #Sumar 1 para obtener el día\n",
    "\n",
    "# Día en el que las naranjas son más caras\n",
    "print(\"Día en el que las naranjas son más caras:\", dia_mas_caro_naranja)\n"
   ]
  },
  {
   "cell_type": "markdown",
   "id": "f59bbc84-0398-4286-a430-842d3cb4b864",
   "metadata": {},
   "source": [
    "## Problema\n",
    " Una empresa tiene un inventario de productos con diferentes categorías, y cada producto tiene un precio y una cantidad en stock. El objetivo es gestionar el inventario de forma eficiente. \n",
    "#### Instrucciones:\n",
    " 1. Crea un diccionario donde la clave sea el nombre de una categoría de producto y el valor sea una lista de tuplas. Cada tupla contendrá el nombre del producto, el precio y la cantidad en stock.\n",
    " 2. Crea una función que calcule el valor total de inventario por categoría (precio por cantidad para cada producto).\n",
    " 3. Muestra la categoría que tiene el valor total más alto en inventario.\n",
    " 4. Añade una opción para actualizar el stock de un producto en una categoría específica."
   ]
  },
  {
   "cell_type": "code",
   "execution_count": 10,
   "id": "a613a0ff-53be-4cf4-a412-2eb1c951865c",
   "metadata": {},
   "outputs": [
    {
     "name": "stdout",
     "output_type": "stream",
     "text": [
      "Valor total por categoría: {'libros': 886.0, 'ropa': 2650.0, 'moviles': 6680.0}\n",
      "Categoría con mayor valor en inventario: moviles\n",
      "El stock de fantasia ahora es 20.\n",
      "Inventario actualizado: {'libros': [('amor', 8.0, 12), ('fantasia', 17.0, 20), ('policiaca', 14.0, 20)], 'ropa': [('blusa', 20.0, 30), ('pantalon', 30.0, 35), ('abrigo', 40, 25)], 'moviles': [('smartphone', 350.0, 10), ('tablet', 230.0, 6), ('reloj', 120.0, 15)]}\n"
     ]
    }
   ],
   "source": [
    "# 1. Diccionaro \n",
    "inventario = {\n",
    "    \"libros\": [(\"amor\", 8.0, 12), (\"fantasia\", 17.0, 30), (\"policiaca\", 14.0, 20)],\n",
    "    \"ropa\": [(\"blusa\", 20.0, 30), (\"pantalon\", 30.0, 35), (\"abrigo\", 40, 25)],\n",
    "    \"moviles\": [(\"smartphone\", 350.0, 10), (\"tablet\", 230.0, 6), (\"reloj\", 120.0, 15)]\n",
    "}\n",
    "\n",
    "# 2.Valor total por categoría\n",
    "def calcular_valor_total(inventario):\n",
    "    valores_totales = {}\n",
    "    for categoria in inventario:\n",
    "        total_categoria = 0\n",
    "        for producto in inventario[categoria]:\n",
    "            nombre_producto, precio_producto, cantidad_producto = producto\n",
    "            total_categoria += precio_producto * cantidad_producto\n",
    "       \n",
    "        valores_totales[categoria] = total_categoria\n",
    "    return valores_totales\n",
    "\n",
    "# 3. Valor total por cada categoría\n",
    "valores_inventario = calcular_valor_total(inventario)\n",
    "print(\"Valor total por categoría:\", valores_inventario)\n",
    "\n",
    "categoria_mayor_valor = max(valores_inventario, key=valores_inventario.get) # Determinar qué se considera \"máximo\"\n",
    "print(\"Categoría con mayor valor en inventario:\", categoria_mayor_valor)\n",
    "\n",
    "# 4. Actualizar el stock \n",
    "def actualizar_stock(inventario, categoria, nombre_producto, nuevo_stock):\n",
    "    if categoria in inventario:\n",
    "        for i, producto in enumerate(inventario[categoria]):\n",
    "            nombre, precio, cantidad = producto\n",
    "            if nombre == nombre_producto:   # Si se encuentra  el producto, actualizar stock.\n",
    "                inventario[categoria][i] = (nombre, precio, nuevo_stock)\n",
    "                print(f\"El stock de {nombre_producto} ahora es {nuevo_stock}.\")\n",
    "                return\n",
    "    print(\"No  se encuentra el producto o la categoría.\")\n",
    "\n",
    "actualizar_stock(inventario, \"libros\", \"fantasia\", 20)\n",
    "\n",
    "print(\"Inventario actualizado:\", inventario)\n",
    "\n"
   ]
  }
 ],
 "metadata": {
  "kernelspec": {
   "display_name": "Python 3 (ipykernel)",
   "language": "python",
   "name": "python3"
  },
  "language_info": {
   "codemirror_mode": {
    "name": "ipython",
    "version": 3
   },
   "file_extension": ".py",
   "mimetype": "text/x-python",
   "name": "python",
   "nbconvert_exporter": "python",
   "pygments_lexer": "ipython3",
   "version": "3.12.7"
  }
 },
 "nbformat": 4,
 "nbformat_minor": 5
}
