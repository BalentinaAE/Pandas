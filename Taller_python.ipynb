{
 "cells": [
  {
   "cell_type": "markdown",
   "id": "373cce7c-698e-4912-aab4-6d025070ccc1",
   "metadata": {},
   "source": [
    "Balentina Agudelo Escobar"
   ]
  },
  {
   "cell_type": "markdown",
   "id": "1873da61-5d16-45d8-8552-986924908978",
   "metadata": {},
   "source": [
    "### 1. Realizar una función que recibe 3 números (d, m, a) que representan una fecha (día,mes y año). El programa debe devolver el día (la fecha) siguiente a la recibida por parámetro. Se debe tener en cuenta los días de cada mes y los años bisiestos."
   ]
  },
  {
   "cell_type": "code",
   "execution_count": 1,
   "id": "2681024f-b08c-408c-a01a-98d2df463de9",
   "metadata": {},
   "outputs": [
    {
     "name": "stdout",
     "output_type": "stream",
     "text": [
      "(6, 9, 1996)\n"
     ]
    }
   ],
   "source": [
    "# Función para obtener el día siguiente a una fecha dada\n",
    "def siguiente_dia(dia_actual, mes_actual, año_actual):\n",
    "    # Lista de días de cada mes (enero a diciembre)\n",
    "    dias_por_mes = [31, 28, 31, 30, 31, 30, 31, 31, 30, 31, 30, 31]\n",
    "\n",
    "    # Verificamos si es año bisiesto y ajustamos febrero a 29 días\n",
    "    if (año_actual % 4 == 0 and año_actual % 100 != 0) or (año_actual % 400 == 0):\n",
    "        dias_por_mes[1] = 29\n",
    "\n",
    "    # Avanzamos al siguiente día\n",
    "    dia_actual += 1\n",
    "\n",
    "    # Ajustamos el mes y el año si es necesario\n",
    "    if dia_actual > dias_por_mes[mes_actual - 1]:  \n",
    "        dia_actual = 1\n",
    "        mes_actual += 1\n",
    "        if mes_actual > 12:\n",
    "            mes_actual = 1\n",
    "            año_actual += 1\n",
    "\n",
    "    # Devolvemos la fecha del día siguiente\n",
    "    return dia_actual, mes_actual, año_actual\n",
    "\n",
    "print(siguiente_dia(5, 9, 1996)) # Ejemplo al final del año\n"
   ]
  },
  {
   "cell_type": "markdown",
   "id": "e8219fe2-e7b9-4bab-88c3-41939a3656c9",
   "metadata": {},
   "source": [
    "### 2. Dada la siguiente lista\n",
    "### Construye un programa que muestre por pantalla cuantas veces aparece cada una de ellas.\n"
   ]
  },
  {
   "cell_type": "code",
   "execution_count": 4,
   "id": "8cf59c11-b25e-4a6e-ba5f-bbfd9ccf22a4",
   "metadata": {},
   "outputs": [
    {
     "name": "stdout",
     "output_type": "stream",
     "text": [
      "Perro: 1 vez\n",
      "Gato: 1 vez\n",
      "Casa: 1 vez\n",
      "Coche: 1 vez\n",
      "Árbol: 1 vez\n",
      "Sol: 1 vez\n",
      "Luna: 1 vez\n",
      "Mar: 1 vez\n",
      "Montaña: 1 vez\n",
      "Río: 1 vez\n",
      "Playa: 1 vez\n",
      "Libro: 1 vez\n",
      "Computadora: 1 vez\n",
      "Teléfono: 1 vez\n",
      "Amigo: 1 vez\n",
      "Familia: 1 vez\n",
      "Trabajo: 1 vez\n",
      "Comida: 1 vez\n",
      "Película: 1 vez\n",
      "Música: 1 vez\n",
      "Viaje: 1 vez\n",
      "Deporte: 1 vez\n",
      "Juego: 1 vez\n",
      "Amor: 1 vez\n",
      "Odio: 1 vez\n",
      "Felicidad: 1 vez\n",
      "Tristeza: 1 vez\n",
      "Alegría: 1 vez\n",
      "Dolor: 1 vez\n",
      "Sueño: 1 vez\n",
      "Noche: 1 vez\n",
      "Día: 1 vez\n",
      "Agua: 1 vez\n",
      "Fuego: 1 vez\n",
      "Aire: 1 vez\n",
      "Tierra: 1 vez\n",
      "Cielo: 1 vez\n",
      "Estrella: 1 vez\n",
      "Flor: 1 vez\n",
      "Fruta: 1 vez\n",
      "Verdura: 1 vez\n",
      "Chocolate: 1 vez\n",
      "Café: 1 vez\n",
      "Té: 1 vez\n",
      "Vino: 1 vez\n",
      "Cerveza: 1 vez\n",
      "Dinero: 1 vez\n",
      "Tiempo: 1 vez\n",
      "Reloj: 2 vez\n"
     ]
    }
   ],
   "source": [
    "# Lista de palabras\n",
    "palabras_español = [\"Perro\", \"Gato\", \"Casa\", \"Coche\", \"Árbol\", \"Sol\", \"Luna\", \"Mar\", \"Montaña\", \"Río\", \"Playa\", \n",
    "                    \"Libro\", \"Computadora\", \"Teléfono\", \"Amigo\", \"Familia\", \"Trabajo\", \"Comida\", \"Película\", \n",
    "                    \"Música\", \"Viaje\", \"Deporte\", \"Juego\", \"Amor\", \"Odio\", \"Felicidad\", \"Tristeza\", \"Alegría\",\n",
    "                    \"Dolor\", \"Sueño\", \"Noche\", \"Día\", \"Agua\", \"Fuego\", \"Aire\", \"Tierra\", \"Cielo\", \"Estrella\", \n",
    "                    \"Flor\", \"Fruta\", \"Verdura\", \"Chocolate\", \"Café\", \"Té\", \"Vino\", \"Cerveza\", \"Dinero\",\"Tiempo\",\n",
    "                    \"Reloj\", \"Reloj\"]\n",
    " \n",
    "contador_palabras = {}\n",
    "\n",
    "for palabra in palabras_español:\n",
    "    if palabra in contador_palabras:\n",
    "        contador_palabras[palabra] += 1  # Aumenta el contador si ya está en el contador de palabras\n",
    "    else:\n",
    "        contador_palabras[palabra] = 1   # Agrega la palabra al contador de palabras y cuenta 1\n",
    "\n",
    "# Veces  que aparece cada palabra\n",
    "for palabra, cantidad in contador_palabras.items():\n",
    "    print(f\"{palabra}: {cantidad} vez\")\n"
   ]
  },
  {
   "cell_type": "markdown",
   "id": "17f296b7-e0b6-4e89-819d-64d5bb4ff858",
   "metadata": {},
   "source": [
    "### 3. Dado el siguiente diccionario con información del precio de diferentes productos por día:\n",
    " Responde a las siguientes preguntas:\n",
    "##### • ¿Cuál es el precio máximo de cada producto?\n",
    "##### • ¿Cuál es el producto más caro?\n",
    "##### • ¿Qué día son más caras las naranjas?"
   ]
  },
  {
   "cell_type": "code",
   "execution_count": 5,
   "id": "75de7a71-c0e8-4d05-ab48-eb9ceb3c5f88",
   "metadata": {},
   "outputs": [
    {
     "name": "stdout",
     "output_type": "stream",
     "text": [
      "Precio máximo por producto: {'cebolla': 39.0, 'papas': 0.43, 'naranjas': 0.56}\n",
      "Producto más caro: cebolla\n",
      "Día en el que las naranjas son más caras: 2\n"
     ]
    }
   ],
   "source": [
    "# Diccionario con precios de productos por día\n",
    "precio_origen  = {\n",
    "    \"cebolla\": [30.3, 20.3, 25.9, 39.0],  # centimos/kg\n",
    "    \"papas\": [0.33, 0.43, 0.34, 0.12],  # euro/kg\n",
    "    \"naranjas\": [0.45, 0.56, 0.38, 0.43]  # euro/kg\n",
    "}\n",
    "\n",
    "# Precio más alto de cada producto\n",
    "precios_maximos = {producto: max(precios) for producto, precios in precio_origen .items()}\n",
    "print(\"Precio máximo por producto:\", precios_maximos)\n",
    "\n",
    "# Producto más caro\n",
    "producto_mas_caro = max(precios_maximos, key=precios_maximos.get)\n",
    "print(\"Producto más caro:\", producto_mas_caro)\n",
    "\n",
    "# Día en el que las naranjas son más caras\n",
    "dia_mas_caro_naranja = precio_origen [\"naranjas\"].index(max(precio_origen [\"naranjas\"])) + 1\n",
    "print(\"Día en el que las naranjas son más caras:\", dia_mas_caro_naranja)"
   ]
  },
  {
   "cell_type": "markdown",
   "id": "67800d8c-be0a-4d97-ab8e-b62ae2a8153b",
   "metadata": {},
   "source": [
    "## Problema\n",
    "##### Una empresa tiene un inventario de productos con diferentes categorías, y cada producto tiene un precio y una cantidad en stock. El objetivo es ##### gestionar el inventario de forma eficiente. \n",
    "#### Instrucciones:\n",
    "##### 1. Crea un diccionario donde la clave sea el nombre de una categoría de producto y el valor sea una lista de tuplas. Cada tupla contendrá el nombre del producto, el precio y la cantidad en stock.\n",
    "##### 2. Crea una función que calcule el valor total de inventario por categoría (precio por cantidad para cada producto).\n",
    "##### 3. Muestra la categoría que tiene el valor total más alto en inventario.\n",
    "##### 4. Añade una opción para actualizar el stock de un producto en una categoría específica."
   ]
  },
  {
   "cell_type": "code",
   "execution_count": 9,
   "id": "13129e83-7067-49a4-938c-9fecc8477b50",
   "metadata": {},
   "outputs": [
    {
     "name": "stdout",
     "output_type": "stream",
     "text": [
      "Valor total por categoría: {'libros': 570.0, 'ropa': 3100.0, 'moviles': 4840.0}\n",
      "Categoría con mayor valor en inventario: moviles\n",
      "El stock de fantasia ahora es 20.\n",
      "Inventario actualizado: {'libros': [('amor', 8.0, 15), ('fantasia', 17.0, 20), ('policiaca', 14.0, 20)], 'ropa': [('blusa', 20.0, 50), ('pantalon', 30.0, 40), ('abrigo', 60.0, 15)], 'moviles': [('smartphone', 300.0, 8), ('tablet', 200.0, 5), ('reloj', 120.0, 12)]}\n"
     ]
    }
   ],
   "source": [
    "# 1. Creamos un diccionaro llamado inventario con diferentes categorías de productos\n",
    "inventario = {\n",
    "    \"libros\": [(\"amor\", 8.0, 15), (\"fantasia\", 17.0, 10), (\"policiaca\", 14.0, 20)],\n",
    "    \"ropa\": [(\"blusa\", 20.0, 50), (\"pantalon\", 30.0, 40), (\"abrigo\", 60.0, 15)],\n",
    "    \"moviles\": [(\"smartphone\", 300.0, 8), (\"tablet\", 200.0, 5), (\"reloj\", 120.0, 12)]\n",
    "}\n",
    "\n",
    "# 2. Función para calcular el valor total por categoría\n",
    "def calcular_valor_total(inventario):\n",
    "    # Creamos un diccionario vacío para guardar el valor total de cada categoría\n",
    "    valores_totales = {}\n",
    "    #iterar  en el inventario\n",
    "    for categoria in inventario:\n",
    "        total_categoria = 0\n",
    "        # iterar cada producto en la categoría\n",
    "        for producto in inventario[categoria]:\n",
    "            nombre_producto, precio_producto, cantidad_producto = producto\n",
    "            # Calculamos el valor total de la categoría (precio por cantidad)\n",
    "            total_categoria += precio_producto * cantidad_producto\n",
    "        # Guardar el total de la categoría en  diccionario\n",
    "        valores_totales[categoria] = total_categoria\n",
    "    return valores_totales\n",
    "\n",
    "# 3. Calcular y mostrar el valor total por cada categoría\n",
    "valores_inventario = calcular_valor_total(inventario)\n",
    "print(\"Valor total por categoría:\", valores_inventario)\n",
    "\n",
    "# Muestra la categoría que tiene el valor total más alto en inventario\n",
    "categoria_mayor_valor = max(valores_inventario, key=valores_inventario.get)\n",
    "print(\"Categoría con mayor valor en inventario:\", categoria_mayor_valor)\n",
    "\n",
    "# 4. Función para actualizar el stock de un producto específico\n",
    "def actualizar_stock(inventario, categoria, nombre_producto, nuevo_stock):\n",
    "    # Revisamos si la categoría existe en el inventario\n",
    "    if categoria in inventario:\n",
    "        for i, producto in enumerate(inventario[categoria]):\n",
    "            nombre, precio, cantidad = producto\n",
    "            # Si encontramos el producto, actualizamos su stock\n",
    "            if nombre == nombre_producto:\n",
    "                inventario[categoria][i] = (nombre, precio, nuevo_stock)\n",
    "                print(f\"El stock de {nombre_producto} ahora es {nuevo_stock}.\")\n",
    "                return\n",
    "    print(\"No encontramos el producto o la categoría.\")\n",
    "\n",
    "# Actualizar el stock de un producto (por ejemplo, la \"tablet\" en \"moviles\")\n",
    "actualizar_stock(inventario, \"libros\", \"fantasia\", 20)\n",
    "\n",
    "# Mostramos el inventario actualizado\n",
    "print(\"Inventario actualizado:\", inventario)\n",
    "\n"
   ]
  }
 ],
 "metadata": {
  "kernelspec": {
   "display_name": "Python 3 (ipykernel)",
   "language": "python",
   "name": "python3"
  },
  "language_info": {
   "codemirror_mode": {
    "name": "ipython",
    "version": 3
   },
   "file_extension": ".py",
   "mimetype": "text/x-python",
   "name": "python",
   "nbconvert_exporter": "python",
   "pygments_lexer": "ipython3",
   "version": "3.12.7"
  }
 },
 "nbformat": 4,
 "nbformat_minor": 5
}
