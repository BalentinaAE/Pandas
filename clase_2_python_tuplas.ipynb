{
 "cells": [
  {
   "cell_type": "markdown",
   "id": "9a8e4e24-0d8a-4084-8672-b1e2c3027096",
   "metadata": {},
   "source": [
    "\n",
    "Eliminar los nombres vacíos de la siguiente lista: nombres = [\"\", \"jose\", \"juana\", \"luis\" , \"encarnacion\", \"\", \"pepa\"] Ayuda: También podemos aplicar la función len a los strings,\n",
    "un string vacío tiene longitud 0.\n"
   ]
  },
  {
   "cell_type": "code",
   "execution_count": 10,
   "id": "4d40c96c-9cb7-4630-ab9a-df7231858281",
   "metadata": {},
   "outputs": [
    {
     "name": "stdout",
     "output_type": "stream",
     "text": [
      "['jose', 'juana', 'luis', 'encarnacion', 'pepa']\n"
     ]
    }
   ],
   "source": [
    "nombres = [\"\", \"jose\", \"juana\", \"luis\", \"encarnacion\", \"\", \"pepa\"]\n",
    "nombres_1 = [nombre for nombre in nombres if len(nombre) > 0]\n",
    "print(nombres_1) "
   ]
  },
  {
   "cell_type": "markdown",
   "id": "e2471939-e9b3-47d0-b481-54eddb92eec4",
   "metadata": {},
   "source": [
    "A partir de la lista del ejercicio anterior, queremos obtener un diccionario donde las claves son los nombres y los valores son los apellidos. \n",
    "apellidos = [\"stark\", \"targaryen\", \"baratheon\", \"martillo\", \"lannister\"]"
   ]
  },
  {
   "cell_type": "code",
   "execution_count": 11,
   "id": "abbfd9d2-4282-458d-a270-ddfc5b3027ef",
   "metadata": {},
   "outputs": [
    {
     "name": "stdout",
     "output_type": "stream",
     "text": [
      "{'jose': 'stark', 'juana': 'targaryen', 'luis': 'baratheon', 'encarnacion': 'martillo', 'pepa': 'lannister'}\n"
     ]
    }
   ],
   "source": [
    "nombres = ['jose', 'juana', 'luis', 'encarnacion', 'pepa']\n",
    "apellidos = [\"stark\", \"targaryen\", \"baratheon\", \"martillo\", \"lannister\"]\n",
    "diccionario = {nombres[i]: apellidos[i] for i in range(len(nombres))}\n",
    "print(diccionario)  "
   ]
  },
  {
   "cell_type": "markdown",
   "id": "69a3209f-a467-4321-a4b8-e77347113a76",
   "metadata": {},
   "source": [
    "Combinar los siguientes diccionarios en uno solo: diccionario1 = {'a': 1, 'b': 2, 'c': 3} y diccionario2 = {'c': 4, 'd': 5, 'e': 6}."
   ]
  },
  {
   "cell_type": "code",
   "execution_count": 12,
   "id": "79b6200a-a907-449f-9d96-2bbff4ff5868",
   "metadata": {},
   "outputs": [
    {
     "name": "stdout",
     "output_type": "stream",
     "text": [
      "{'a': 1, 'b': 2, 'c': 4, 'd': 5, 'e': 6}\n"
     ]
    }
   ],
   "source": [
    "diccionario1 = {'a': 1, 'b': 2, 'c': 3}\n",
    "diccionario2 = {'c': 4, 'd': 5, 'e': 6}\n",
    "\n",
    "diccionario_co= {**diccionario1, **diccionario2}\n",
    "print(diccionario_co)  "
   ]
  },
  {
   "cell_type": "markdown",
   "id": "0363024b-102a-4366-87fe-f3de58770cc4",
   "metadata": {},
   "source": [
    "Encontrar la clave con el valor más alto en el siguiente diccionario: notas = {'Juan': 85, 'María': 92, 'Carlos': 78, 'Sofía': 95, 'Pedro': 88}"
   ]
  },
  {
   "cell_type": "code",
   "execution_count": 9,
   "id": "58c0c035-dbb1-40fa-b9de-665acc66d2f5",
   "metadata": {},
   "outputs": [
    {
     "name": "stdout",
     "output_type": "stream",
     "text": [
      "Sofía\n"
     ]
    }
   ],
   "source": [
    "\n",
    "notas = {'Juan': 85, 'María': 92, 'Carlos': 78, 'Sofía': 95, 'Pedro': 88}\n",
    "clave_maxima = max(notas, key=notas.get)  # Obtiene la clave con el valor más alto\n",
    "print(clave_maxima)  # Imprime: Sofía"
   ]
  },
  {
   "cell_type": "code",
   "execution_count": 19,
   "id": "e1d433c3-0def-4012-b8b4-025a8820df53",
   "metadata": {},
   "outputs": [
    {
     "name": "stdout",
     "output_type": "stream",
     "text": [
      "1\n",
      "Python\n",
      "5\n",
      "Balentina\n",
      "28\n",
      "La primera sobrina se llama Krystal Gabriella y tiene 6 años.\n",
      "La segunda sobrina se llama Charlotte y tiene 1 años.\n"
     ]
    }
   ],
   "source": [
    "#ejemplos chat\n",
    "\n",
    "# Creación de una tupla\n",
    "mi_tupla = (1, 2, 3, 'Python', 3.14)\n",
    "\n",
    "# Acceder a elementos de la tupla\n",
    "print(mi_tupla[0])  \n",
    "print(mi_tupla[3]) \n",
    "\n",
    "# Longitud de la tupla\n",
    "print(len(mi_tupla))  \n",
    "\n",
    "\n",
    "# Creación de un diccionario\n",
    "mi_diccionario = {\n",
    "    'nombre': 'Balentina',\n",
    "    'edad': 28,\n",
    "    'ciudad': 'Mallorca'\n",
    "}\n",
    "\n",
    "# Acceder a elementos del diccionario\n",
    "print(mi_diccionario['nombre'])  # Salida: Balentina\n",
    "print(mi_diccionario['edad'])     # Salida: 28\n",
    "\n",
    "# Agregar un nuevo par clave-valor\n",
    "mi_diccionario['profesión'] = 'Ingeniera agrónoma'\n",
    "\n",
    "# Modificar un valor existente\n",
    "mi_diccionario['edad'] = 28\n",
    "\n",
    "# Eliminar un elemento\n",
    "del mi_diccionario['ciudad']\n",
    "\n",
    "\n",
    "# Tupla con nombres y edades de sobrinas\n",
    "sobrinas = ('Krystal Gabriella', 6, 'Charlotte', 1)\n",
    "\n",
    "# Acceder a los elementos de la tupla\n",
    "print(f'La primera sobrina se llama {hijas[0]} y tiene {sobrinas[1]} años.')  # Salida: La primera hija se llama Krystal Gabriella y tiene 6 años.\n",
    "print(f'La segunda sobrina se llama {hijas[2]} y tiene {sobrinas[3]} años.')  # Salida: La segunda hija se llama Charlotte y tiene 1 años.\n",
    "\n",
    "\n",
    "\n"
   ]
  },
  {
   "cell_type": "code",
   "execution_count": 20,
   "id": "85061c01-2c86-4076-a9c7-4490a833b3c9",
   "metadata": {},
   "outputs": [
    {
     "name": "stdout",
     "output_type": "stream",
     "text": [
      "Nombre: Balentina Agudelo Escobar\n",
      "Profesión: Ingeniera Agrónoma\n",
      "Primera sobrina: Krystal Gabriella, Edad: 6\n",
      "Segunda sobrina: Charlotte, Edad: 6\n",
      "Experiencia laboral:\n",
      "- Vendedora en tiendas de ropa y zapatos\n",
      "- Auxiliar administrativo en la Federación Nacional de Cafeteros\n"
     ]
    }
   ],
   "source": [
    "# Diccionario con información personal\n",
    "mi_informacion = {\n",
    "    'nombre': 'Balentina Agudelo Escobar',\n",
    "    'profesión': 'Ingeniera Agrónoma',\n",
    "    'sobrinas': {\n",
    "        'sobrina1': {\n",
    "            'nombre': 'Krystal Gabriella',\n",
    "            'edad': 6\n",
    "        },\n",
    "        'sobrina2': {\n",
    "            'nombre': 'Charlotte',\n",
    "            'edad': 1\n",
    "        }\n",
    "    },\n",
    "    'experiencia_laboral': [\n",
    "        'Vendedora en tiendas de ropa y zapatos',\n",
    "        'Auxiliar administrativo en la Federación Nacional de Cafeteros'\n",
    "    ]\n",
    "}\n",
    "\n",
    "# Acceder a elementos del diccionario\n",
    "print(f'Nombre: {mi_informacion[\"nombre\"]}')  # Salida: Nombre: Valentina Agudelo Escobar\n",
    "print(f'Profesión: {mi_informacion[\"profesión\"]}')  # Salida: Profesión: Ingeniera Agrónoma\n",
    "print(f'Primera sobrina: {mi_informacion[\"sobrinas\"][\"sobrina1\"][\"nombre\"]}, Edad: {mi_informacion[\"sobrinas\"][\"sobrina1\"][\"edad\"]}') \n",
    "print(f'Segunda sobrina: {mi_informacion[\"sobrinas\"][\"sobrina2\"][\"nombre\"]}, Edad: {mi_informacion[\"sobrinas\"][\"sobrina1\"][\"edad\"]}')  \n",
    "\n",
    "# Imprimir experiencia laboral\n",
    "print('Experiencia laboral:')\n",
    "for experiencia in mi_informacion['experiencia_laboral']:\n",
    "    print(f'- {experiencia}')"
   ]
  },
  {
   "cell_type": "code",
   "execution_count": null,
   "id": "ec3f935a-915a-4b13-8cb5-2b7344738676",
   "metadata": {},
   "outputs": [],
   "source": []
  }
 ],
 "metadata": {
  "kernelspec": {
   "display_name": "Python 3 (ipykernel)",
   "language": "python",
   "name": "python3"
  },
  "language_info": {
   "codemirror_mode": {
    "name": "ipython",
    "version": 3
   },
   "file_extension": ".py",
   "mimetype": "text/x-python",
   "name": "python",
   "nbconvert_exporter": "python",
   "pygments_lexer": "ipython3",
   "version": "3.12.7"
  }
 },
 "nbformat": 4,
 "nbformat_minor": 5
}
